{
 "cells": [
  {
   "cell_type": "code",
   "execution_count": null,
   "metadata": {},
   "outputs": [],
   "source": [
    "import sys,os\n",
    "import configargparse\n",
    "\n",
    "import torch\n",
    "import numpy as np\n",
    "\n",
    "from srns import *\n",
    "import util\n",
    "\n",
    "_MODEL_PATH = './logs/032410face_seg_one_shot/checkpoints/epoch_0479_iter_060000.pth'\n",
    "\n",
    "_TOT_NUM_INSTANCES = 1001\n",
    "\n",
    "model = SRNsModel(num_instances=_TOT_NUM_INSTANCES,\n",
    "                  latent_dim=256,\n",
    "                  fit_single_srn=False,\n",
    "                  use_unet_renderer=False,\n",
    "                  tracing_steps=10,\n",
    "                  freeze_networks=True,\n",
    "                  out_channels=19,\n",
    "                  img_sidelength=128,\n",
    "                  output_sidelength=512\n",
    "                 )\n",
    "\n",
    "util.custom_load(model, path=_MODEL_PATH, discriminator=None,\n",
    "                 overwrite_embeddings=False)\n",
    "\n",
    "model.eval()\n",
    "model.cuda()"
   ]
  },
  {
   "cell_type": "code",
   "execution_count": null,
   "metadata": {},
   "outputs": [],
   "source": [
    "from dataset.face_dataset import FaceClassDataset\n",
    "from torch.utils.data import DataLoader\n",
    "# from torch.utils.tensorboard import SummaryWriter\n",
    "\n",
    "import cv2\n",
    "import imageio\n",
    "\n",
    "train_dataset = FaceClassDataset(\n",
    "    root_dir='/data/anpei/facial-data/seg_face_2000', \n",
    "    data_type='seg',\n",
    "    img_sidelength=128, \n",
    "    sample_observations=[13], \n",
    "    sample_instances=list(range(100)),\n",
    "    load_depth=False)\n",
    "\n",
    "train_dataset = DataLoader(train_dataset,\n",
    "                           collate_fn=train_dataset.collate_fn,\n",
    "                           batch_size=8,\n",
    "                           shuffle=False,\n",
    "                           drop_last=False)\n",
    "\n",
    "with torch.no_grad():\n",
    "\n",
    "    for idx, model_input in enumerate(train_dataset):\n",
    "        model_input, ground_truth = model_input\n",
    "        \n",
    "        pose = model_input['pose']\n",
    "        intrinsics = model_input['intrinsics']\n",
    "        uv = model_input['uv']\n",
    "        z = model.get_embedding(model_input)\n",
    "        \n",
    "        model_outputs = model(pose, z, intrinsics, uv)\n",
    "        print(model_outputs[0].shape, ground_truth['rgb'].shape)\n",
    "        \n",
    "        dist_loss = model.get_cls_loss(model_outputs, ground_truth)\n",
    "        print(np.mean(dist_loss.cpu().numpy()))"
   ]
  },
  {
   "cell_type": "code",
   "execution_count": null,
   "metadata": {
    "scrolled": true
   },
   "outputs": [],
   "source": [
    "from dataset.face_dataset import FaceRandomPoseDataset\n",
    "from torch.utils.data import DataLoader\n",
    "# from torch.utils.tensorboard import SummaryWriter\n",
    "\n",
    "import cv2\n",
    "import imageio\n",
    "\n",
    "_OUTPUT_DIR = './logs/032410face_seg_one_shot/output_iter_060000'\n",
    "_MODE = 'sphere'\n",
    "_R = 1.2\n",
    "\n",
    "_NUM_INSTANCES=3\n",
    "_NUM_OBSERVATIONS=50\n",
    "\n",
    "output_dir = os.path.join(_OUTPUT_DIR, _MODE)\n",
    "sample_instances = list(np.random.choice(range(_TOT_NUM_INSTANCES), _NUM_INSTANCES, replace=False))\n",
    "\n",
    "# writer = SummaryWriter(output_dir)\n",
    "\n",
    "dataset = FaceRandomPoseDataset(\n",
    "    num_instances=sample_instances, num_observations=_NUM_OBSERVATIONS, sample_radius=_R, mode=_MODE)\n",
    "\n",
    "dataloader = DataLoader(dataset,\n",
    "                     collate_fn=dataset.collate_fn,\n",
    "                     batch_size=1,\n",
    "                     shuffle=False,\n",
    "                     drop_last=False)\n",
    "\n",
    "print('Beginning evaluation...')\n",
    "\n",
    "images = {}\n",
    "\n",
    "with torch.no_grad():\n",
    "\n",
    "    for idx, model_input in enumerate(dataloader):\n",
    "        model_input, ground_truth = model_input\n",
    "        \n",
    "        pose = model_input['pose']\n",
    "        intrinsics = model_input['intrinsics']\n",
    "        uv = model_input['uv']\n",
    "        z = model.get_embedding(model_input)\n",
    "        \n",
    "        model_outputs = model(pose, z, intrinsics, uv)\n",
    "        predictions, depth_maps = model_outputs\n",
    "                \n",
    "        batch_size, tensor_len, channels = predictions.shape\n",
    "        img_sidelen = np.sqrt(tensor_len).astype(int)\n",
    "                \n",
    "        pred = torch.argmax(predictions, dim=2, keepdim=True)\n",
    "        output_img = util.lin2img(pred, color_map=dataset.color_map).cpu().numpy()\n",
    "        output_pred = pred.view(batch_size, img_sidelen, img_sidelen, 1).cpu().numpy()\n",
    "#         output_dpt = util.lin2img(depth_maps).cpu().numpy()\n",
    "#         output_dpt = (output_dpt - np.min(output_dpt)) / (np.max(output_dpt)-np.min(output_dpt) + 1e-5)\n",
    "#         print(idx, 'depth = ', np.max(output_dpt), np.min(output_dpt), output_dpt.shape)\n",
    "        \n",
    "#         model.write_updates(writer, model_outputs, iter=idx, mode='test')\n",
    "\n",
    "        for i in range(output_img.shape[0]):\n",
    "            instance_idx = int(model_input['instance_idx'][i].squeeze().detach().cpu().numpy().astype(np.int64))\n",
    "            observation_idx = model_input['observation_idx'][i]\n",
    "            \n",
    "            instance_dir = os.path.join(output_dir, \"%03d\" % instance_idx)\n",
    "            os.makedirs(instance_dir, exist_ok=True)\n",
    "            \n",
    "            img = output_img[i, :, :, :].squeeze().transpose(1, 2, 0)\n",
    "            img *= 255\n",
    "            img = img.round().clip(0, 255).astype(np.uint8)\n",
    "#             img = cv2.cvtColor(img, cv2.COLOR_BGR2RGB) \n",
    "\n",
    "            if not instance_idx in images:\n",
    "                images[instance_idx] = [None] * _NUM_OBSERVATIONS\n",
    "\n",
    "            images[instance_idx][observation_idx] = img\n",
    "#             output_fp = os.path.join(instance_dir, '%02d.png'%(observation_idx))\n",
    "#             util.write_img(img, output_fp)\n",
    "            \n",
    "            output_fp = os.path.join(instance_dir, '%02d_seg.png'%(observation_idx))\n",
    "            seg_img = output_pred[i, :, :].squeeze().astype(np.uint8)\n",
    "            util.write_img(seg_img, output_fp)\n",
    "            \n",
    "#             dpt_img = (output_dpt[i, :, :, :].squeeze() * 255.0).astype(np.uint8)\n",
    "#             dpt_img = cv2.applyColorMap(dpt_img, cv2.COLORMAP_JET)\n",
    "#             output_fp = os.path.join(instance_dir, '%02d_depth.png'%(observation_idx))\n",
    "# #             print('Save output for instance %03d - %02d: %s'%(instance_idx, observation_idx, output_fp))\n",
    "#             util.write_img(dpt_img, output_fp)\n",
    "            print('Save output for instance %04d - %02d: %s'%(instance_idx, observation_idx, output_fp))\n",
    "        \n",
    "            if observation_idx == _NUM_OBSERVATIONS - 1:\n",
    "                imageio.mimsave(os.path.join(instance_dir, 'output.gif'), images[instance_idx], fps=5.0)\n",
    "                print('=== [DONE] saving output.gif.')\n",
    "            \n",
    "#         print('[DONE] Save output for instance %03d.'%(instance_idx))\n"
   ]
  },
  {
   "cell_type": "code",
   "execution_count": null,
   "metadata": {
    "scrolled": true
   },
   "outputs": [],
   "source": [
    "# move seg_face_8000\n",
    "import os\n",
    "from glob import glob\n",
    "from shutil import copyfile\n",
    "\n",
    "data_root = '/data/anpei/facial-data/seg_face_8000/images'\n",
    "img_fps = glob(os.path.join(data_root, '*_seg_*.png'))\n",
    "img_ids = list(set([os.path.basename(x)[:5] for x in img_fps]))\n",
    "\n",
    "for img_id in img_ids:\n",
    "    output_dir = os.path.join(data_root, img_id)\n",
    "    os.makedirs(output_dir, exist_ok=True)\n",
    "    copyfile(\n",
    "        os.path.join(data_root, '..', 'cam2world.npy'), \n",
    "        os.path.join(output_dir, 'cam2world.npy'))\n",
    "    \n",
    "    img_fps = glob(os.path.join(data_root, '%s_seg_*.png'%(img_id)))\n",
    "    print(output_dir, len(imgs))\n",
    "    for img_fp in sorted(img_fps):\n",
    "        out_name = os.path.basename(img_fp).split('_')\n",
    "        out_sub_dir = out_name[0]\n",
    "        out_name = '_'.join([out_name[1], '%02d'%(int(out_name[-2])*5+int(out_name[-1][:2]))]) + '.png'\n",
    "        out_name = os.path.join(os.path.dirname(img_fp), out_sub_dir, out_name)\n",
    "#         print('\\t> ', img_fp, out_name)\n",
    "        os.rename(img_fp, out_name)"
   ]
  },
  {
   "cell_type": "code",
   "execution_count": null,
   "metadata": {},
   "outputs": [],
   "source": [
    "import os\n",
    "import numpy as np\n",
    "\n",
    "data_dir = '/data/anpei/facial-data/seg_face_2000/10996'\n",
    "\n",
    "cam_param = np.load(os.path.join(data_dir, 'cameras.npy'), allow_pickle=True).item() \n",
    "print(np.asarray(cam_param['zRange']).shape, np.asarray(cam_param['extrinsics']).shape)"
   ]
  },
  {
   "cell_type": "code",
   "execution_count": null,
   "metadata": {},
   "outputs": [],
   "source": [
    "import torchvision.models as torch_models\n",
    "import torch\n",
    "\n",
    "resnet_model = torch_models.resnet18(pretrained=False)\n",
    "# resnet_model.layer4 = torch.nn.Identity()\n",
    "# resnet_model.fc = torch.nn.Identity()\n",
    "resnet_model.conv1 = torch.nn.Conv2d(19, 64, kernel_size=(7, 7), stride=(2, 2), padding=(3, 3), bias=False)\n",
    "print(resnet_model)"
   ]
  },
  {
   "cell_type": "code",
   "execution_count": null,
   "metadata": {},
   "outputs": [],
   "source": [
    "a = resnet_model(torch.Tensor(8, 19, 128, 128))\n",
    "print(a.shape)"
   ]
  },
  {
   "cell_type": "code",
   "execution_count": null,
   "metadata": {},
   "outputs": [],
   "source": [
    "import torch\n",
    "from torch.nn import functional as F\n",
    "\n",
    "aa = torch.randint(0, 19, size=(1, 3, 3))\n",
    "print(aa.shape)\n",
    "\n",
    "bb = F.one_hot(aa)\n",
    "print(bb.shape, bb[0])"
   ]
  },
  {
   "cell_type": "code",
   "execution_count": null,
   "metadata": {},
   "outputs": [],
   "source": [
    "aa = torch.empty(256)\n",
    "print(aa.shape)"
   ]
  },
  {
   "cell_type": "code",
   "execution_count": 36,
   "metadata": {},
   "outputs": [
    {
     "name": "stdout",
     "output_type": "stream",
     "text": [
      "[  0.  10.  20.  30.  50.  60.  70.  80.  90. 100. 110. 120. 130. 140.\n",
      " 150.]\n",
      "[[1.10482111e+03 0.00000000e+00 7.91688039e+02]\n",
      " [0.00000000e+00 1.10435260e+03 6.12305434e+02]\n",
      " [0.00000000e+00 0.00000000e+00 1.00000000e+00]]\n",
      "[ 288  735  855 1009]\n",
      "[ 288  589  855 1156] int64\n",
      "(567, 567)\n",
      "503.688039 23.30543399999999 [ 288  589  855 1156]\n",
      "[[1.10482111e+03 0.00000000e+00 5.03688039e+02]\n",
      " [0.00000000e+00 1.10435260e+03 2.33054340e+01]\n",
      " [0.00000000e+00 0.00000000e+00 1.00000000e+00]]\n",
      "1200 1600 503.688039 23.30543399999999\n"
     ]
    }
   ],
   "source": [
    "import cv2\n",
    "\n",
    "instance_dir = '/data/anpei/facial-data/seg_body/94'\n",
    "seg_imgs = img = cv2.imread(os.path.join(instance_dir, 'semantic_mask', 'image.cam05_000094.png'), cv2.IMREAD_UNCHANGED).astype(np.float32)\n",
    "print(np.unique(seg_imgs))\n",
    "\n",
    "\n",
    "fs = cv2.FileStorage(\"/data/anpei/facial-data/seg_body/Calib_T_samba/cam05_000000/intrinsic.xml\", cv2.FILE_STORAGE_READ)\n",
    "intrinsics = fs.getNode(\"M\").mat()\n",
    "\n",
    "print(intrinsics)\n",
    "\n",
    "H, W = seg_imgs.shape\n",
    "cx, cy = intrinsics[:2, 2]\n",
    "\n",
    "x_coord, y_coord = np.where(seg_imgs != 0)\n",
    "bbox = np.asarray([np.min(x_coord), np.min(y_coord), np.max(x_coord), np.max(y_coord)])\n",
    "print(bbox)\n",
    "\n",
    "sidelength = max(bbox[2] - bbox[0], bbox[3] - bbox[1])\n",
    "center = np.asarray([bbox[2] + bbox[0], bbox[3] + bbox[1]]) / 2.0\n",
    "bbox = np.ceil(np.asarray([\n",
    "    center[0]-sidelength/2.0, \n",
    "    center[1]-sidelength/2.0, \n",
    "    center[0]+sidelength/2.0,\n",
    "    center[1]+sidelength/2.0])).astype(np.int64)\n",
    "\n",
    "cx, cy = intrinsics[:2, 2] - bbox[:2]\n",
    "\n",
    "print(bbox, bbox.dtype)\n",
    "seg_imgs = seg_imgs[bbox[0]:bbox[2], bbox[1]:bbox[3]]\n",
    "print(seg_imgs.shape)\n",
    "\n",
    "\n",
    "print(cx, cy, bbox)\n",
    "intrinsics[:2, 2] = [cx, cy]\n",
    "print(intrinsics)\n",
    "\n",
    "\n",
    "print(H, W, cx, cy)"
   ]
  },
  {
   "cell_type": "code",
   "execution_count": 2,
   "metadata": {},
   "outputs": [
    {
     "name": "stdout",
     "output_type": "stream",
     "text": [
      "> Load 2 instances from /data/anpei/facial-data/seg_body.\n",
      "10\n",
      ">  [ 0.  1.  2.  3.  4.  5.  6.  7.  8.  9. 11. 12. 13. 14. 15.] torch.Size([1, 16384, 1])\n",
      "> pose = \n",
      "tensor([[[-0.6751, -0.3836,  0.6301, -2.6013],\n",
      "         [-0.0140, -0.8473, -0.5309,  2.7542],\n",
      "         [ 0.7376, -0.3672,  0.5667, -2.0908],\n",
      "         [ 0.0000,  0.0000,  0.0000,  1.0000]]])\n",
      "> cam_int = \n",
      "tensor([[[1.1081e+03, 0.0000e+00, 7.8727e+02, 0.0000e+00],\n",
      "         [0.0000e+00, 1.1070e+03, 6.0741e+02, 0.0000e+00],\n",
      "         [0.0000e+00, 0.0000e+00, 1.0000e+00, 0.0000e+00],\n",
      "         [0.0000e+00, 0.0000e+00, 0.0000e+00, 1.0000e+00]]])\n",
      "torch.Size([1, 16384, 1]) [ 0.  1.  2.  3.  4.  5.  6.  7.  8.  9. 11. 12. 13. 14. 15.]\n"
     ]
    },
    {
     "data": {
      "image/png": "[encoded data removed]",
      "text/plain": [
       "<Figure size 432x288 with 1 Axes>"
      ]
     },
     "metadata": {
      "needs_background": "light"
     },
     "output_type": "display_data"
    },
    {
     "name": "stdout",
     "output_type": "stream",
     "text": [
      ">  [ 0.  1.  2.  4.  6.  7.  8.  9. 10. 11. 12. 14. 15.] torch.Size([1, 16384, 1])\n",
      "> pose = \n",
      "tensor([[[ 0.9987, -0.0077, -0.0500,  0.0554],\n",
      "         [-0.0383, -0.7606, -0.6481,  2.7474],\n",
      "         [-0.0330,  0.6492, -0.7599,  2.1227],\n",
      "         [ 0.0000,  0.0000,  0.0000,  1.0000]]])\n",
      "> cam_int = \n",
      "tensor([[[1.1019e+03, 0.0000e+00, 8.1243e+02, 0.0000e+00],\n",
      "         [0.0000e+00, 1.1022e+03, 6.0238e+02, 0.0000e+00],\n",
      "         [0.0000e+00, 0.0000e+00, 1.0000e+00, 0.0000e+00],\n",
      "         [0.0000e+00, 0.0000e+00, 0.0000e+00, 1.0000e+00]]])\n",
      "torch.Size([1, 16384, 1]) [ 0.  1.  2.  4.  6.  7.  8.  9. 10. 11. 12. 14. 15.]\n"
     ]
    },
    {
     "data": {
      "image/png": "[encoded data removed]",
      "text/plain": [
       "<Figure size 432x288 with 1 Axes>"
      ]
     },
     "metadata": {
      "needs_background": "light"
     },
     "output_type": "display_data"
    },
    {
     "name": "stdout",
     "output_type": "stream",
     "text": [
      ">  [ 0.  1.  2.  3.  4.  5.  6.  7.  8.  9. 10. 11. 12. 13. 14. 15.] torch.Size([1, 16384, 1])\n",
      "> pose = \n",
      "tensor([[[ 0.6957,  0.3931, -0.6013,  2.5896],\n",
      "         [ 0.0212, -0.8479, -0.5297,  2.7699],\n",
      "         [-0.7181,  0.3557, -0.5982,  2.1870],\n",
      "         [ 0.0000,  0.0000,  0.0000,  1.0000]]])\n",
      "> cam_int = \n",
      "tensor([[[1.1083e+03, 0.0000e+00, 8.0637e+02, 0.0000e+00],\n",
      "         [0.0000e+00, 1.1085e+03, 6.0109e+02, 0.0000e+00],\n",
      "         [0.0000e+00, 0.0000e+00, 1.0000e+00, 0.0000e+00],\n",
      "         [0.0000e+00, 0.0000e+00, 0.0000e+00, 1.0000e+00]]])\n",
      "torch.Size([1, 16384, 1]) [ 0.  1.  2.  3.  4.  5.  6.  7.  8.  9. 10. 11. 12. 13. 14. 15.]\n"
     ]
    },
    {
     "data": {
      "image/png": "[encoded data removed]",
      "text/plain": [
       "<Figure size 432x288 with 1 Axes>"
      ]
     },
     "metadata": {
      "needs_background": "light"
     },
     "output_type": "display_data"
    },
    {
     "name": "stdout",
     "output_type": "stream",
     "text": [
      ">  [ 0.  1.  2.  3.  4.  5.  6.  7.  8.  9. 10. 11. 12. 13. 14. 15.] torch.Size([1, 16384, 1])\n",
      "> pose = \n",
      "tensor([[[-0.6360,  0.4074, -0.6553,  2.6195],\n",
      "         [ 0.0159, -0.8422, -0.5390,  2.7542],\n",
      "         [-0.7715, -0.3533,  0.5292, -2.0908],\n",
      "         [ 0.0000,  0.0000,  0.0000,  1.0000]]])\n",
      "> cam_int = \n",
      "tensor([[[1.1164e+03, 0.0000e+00, 8.0493e+02, 0.0000e+00],\n",
      "         [0.0000e+00, 1.1174e+03, 6.0064e+02, 0.0000e+00],\n",
      "         [0.0000e+00, 0.0000e+00, 1.0000e+00, 0.0000e+00],\n",
      "         [0.0000e+00, 0.0000e+00, 0.0000e+00, 1.0000e+00]]])\n",
      "torch.Size([1, 16384, 1]) [ 0.  1.  2.  3.  4.  5.  6.  7.  8.  9. 10. 11. 12. 13. 14. 15.]\n"
     ]
    },
    {
     "data": {
      "image/png": "[encoded data removed]",
      "text/plain": [
       "<Figure size 432x288 with 1 Axes>"
      ]
     },
     "metadata": {
      "needs_background": "light"
     },
     "output_type": "display_data"
    },
    {
     "name": "stdout",
     "output_type": "stream",
     "text": [
      ">  [ 0.  1.  2.  3.  4.  5.  6.  7.  8.  9. 11. 12. 13. 14. 15.] torch.Size([1, 16384, 1])\n",
      "> pose = \n",
      "tensor([[[ 0.0028, -0.5674,  0.8234, -2.5839],\n",
      "         [-0.0435, -0.8227, -0.5668,  2.7426],\n",
      "         [ 0.9990, -0.0342, -0.0270, -0.0839],\n",
      "         [ 0.0000,  0.0000,  0.0000,  1.0000]]])\n",
      "> cam_int = \n",
      "tensor([[[1.1005e+03, 0.0000e+00, 8.0037e+02, 0.0000e+00],\n",
      "         [0.0000e+00, 1.1004e+03, 5.9152e+02, 0.0000e+00],\n",
      "         [0.0000e+00, 0.0000e+00, 1.0000e+00, 0.0000e+00],\n",
      "         [0.0000e+00, 0.0000e+00, 0.0000e+00, 1.0000e+00]]])\n",
      "torch.Size([1, 16384, 1]) [ 0.  1.  2.  3.  4.  5.  6.  7.  8.  9. 11. 12. 13. 14. 15.]\n"
     ]
    },
    {
     "data": {
      "image/png": "[encoded data removed]",
      "text/plain": [
       "<Figure size 432x288 with 1 Axes>"
      ]
     },
     "metadata": {
      "needs_background": "light"
     },
     "output_type": "display_data"
    },
    {
     "name": "stdout",
     "output_type": "stream",
     "text": [
      ">  [ 0.  1.  2.  3.  4.  5.  6.  7.  8.  9. 10. 11. 12. 13. 14. 15.] torch.Size([1, 16384, 1])\n",
      "> pose = \n",
      "tensor([[[ 0.6957,  0.3931, -0.6013,  2.5896],\n",
      "         [ 0.0212, -0.8479, -0.5297,  2.7699],\n",
      "         [-0.7181,  0.3557, -0.5982,  2.1870],\n",
      "         [ 0.0000,  0.0000,  0.0000,  1.0000]]])\n",
      "> cam_int = \n",
      "tensor([[[1.1083e+03, 0.0000e+00, 8.0637e+02, 0.0000e+00],\n",
      "         [0.0000e+00, 1.1085e+03, 6.0109e+02, 0.0000e+00],\n",
      "         [0.0000e+00, 0.0000e+00, 1.0000e+00, 0.0000e+00],\n",
      "         [0.0000e+00, 0.0000e+00, 0.0000e+00, 1.0000e+00]]])\n",
      "torch.Size([1, 16384, 1]) [ 0.  1.  2.  3.  4.  5.  6.  7.  8.  9. 10. 11. 12. 13. 14. 15.]\n"
     ]
    },
    {
     "data": {
      "image/png": "[encoded data removed]",
      "text/plain": [
       "<Figure size 432x288 with 1 Axes>"
      ]
     },
     "metadata": {
      "needs_background": "light"
     },
     "output_type": "display_data"
    },
    {
     "name": "stdout",
     "output_type": "stream",
     "text": [
      ">  [ 0.  1.  2.  3.  4.  5.  6.  7.  8.  9. 11. 12. 13. 14. 15.] torch.Size([1, 16384, 1])\n",
      "> pose = \n",
      "tensor([[[-0.6751, -0.3836,  0.6301, -2.6013],\n",
      "         [-0.0140, -0.8473, -0.5309,  2.7542],\n",
      "         [ 0.7376, -0.3672,  0.5667, -2.0908],\n",
      "         [ 0.0000,  0.0000,  0.0000,  1.0000]]])\n",
      "> cam_int = \n",
      "tensor([[[1.1081e+03, 0.0000e+00, 7.8727e+02, 0.0000e+00],\n",
      "         [0.0000e+00, 1.1070e+03, 6.0741e+02, 0.0000e+00],\n",
      "         [0.0000e+00, 0.0000e+00, 1.0000e+00, 0.0000e+00],\n",
      "         [0.0000e+00, 0.0000e+00, 0.0000e+00, 1.0000e+00]]])\n",
      "torch.Size([1, 16384, 1]) [ 0.  1.  2.  3.  4.  5.  6.  7.  8.  9. 11. 12. 13. 14. 15.]\n"
     ]
    },
    {
     "data": {
      "image/png": "[encoded data removed]",
      "text/plain": [
       "<Figure size 432x288 with 1 Axes>"
      ]
     },
     "metadata": {
      "needs_background": "light"
     },
     "output_type": "display_data"
    },
    {
     "name": "stdout",
     "output_type": "stream",
     "text": [
      ">  [ 0.  1.  2.  3.  5.  6.  7.  8.  9. 10. 11. 12. 13. 14. 15.] torch.Size([1, 16384, 1])\n",
      "> pose = \n",
      "tensor([[[-0.9999,  0.0094,  0.0127, -0.0035],\n",
      "         [-0.0155, -0.7400, -0.6724,  2.7342],\n",
      "         [ 0.0031, -0.6726,  0.7400, -2.0470],\n",
      "         [ 0.0000,  0.0000,  0.0000,  1.0000]]])\n",
      "> cam_int = \n",
      "tensor([[[1.1048e+03, 0.0000e+00, 7.9169e+02, 0.0000e+00],\n",
      "         [0.0000e+00, 1.1044e+03, 6.1231e+02, 0.0000e+00],\n",
      "         [0.0000e+00, 0.0000e+00, 1.0000e+00, 0.0000e+00],\n",
      "         [0.0000e+00, 0.0000e+00, 0.0000e+00, 1.0000e+00]]])\n",
      "torch.Size([1, 16384, 1]) [ 0.  1.  2.  3.  5.  6.  7.  8.  9. 10. 11. 12. 13. 14. 15.]\n"
     ]
    },
    {
     "data": {
      "image/png": "[encoded data removed]",
      "text/plain": [
       "<Figure size 432x288 with 1 Axes>"
      ]
     },
     "metadata": {
      "needs_background": "light"
     },
     "output_type": "display_data"
    },
    {
     "name": "stdout",
     "output_type": "stream",
     "text": [
      ">  [ 0.  1.  2.  3.  4.  5.  6.  7.  8.  9. 10. 11. 12. 13. 14. 15.] torch.Size([1, 16384, 1])\n",
      "> pose = \n",
      "tensor([[[-0.6360,  0.4074, -0.6553,  2.6195],\n",
      "         [ 0.0159, -0.8422, -0.5390,  2.7542],\n",
      "         [-0.7715, -0.3533,  0.5292, -2.0908],\n",
      "         [ 0.0000,  0.0000,  0.0000,  1.0000]]])\n",
      "> cam_int = \n",
      "tensor([[[1.1164e+03, 0.0000e+00, 8.0493e+02, 0.0000e+00],\n",
      "         [0.0000e+00, 1.1174e+03, 6.0064e+02, 0.0000e+00],\n",
      "         [0.0000e+00, 0.0000e+00, 1.0000e+00, 0.0000e+00],\n",
      "         [0.0000e+00, 0.0000e+00, 0.0000e+00, 1.0000e+00]]])\n",
      "torch.Size([1, 16384, 1]) [ 0.  1.  2.  3.  4.  5.  6.  7.  8.  9. 10. 11. 12. 13. 14. 15.]\n"
     ]
    },
    {
     "data": {
      "image/png": "[encoded data removed]",
      "text/plain": [
       "<Figure size 432x288 with 1 Axes>"
      ]
     },
     "metadata": {
      "needs_background": "light"
     },
     "output_type": "display_data"
    },
    {
     "name": "stdout",
     "output_type": "stream",
     "text": [
      ">  [ 0.  1.  2.  4.  6.  7.  8.  9. 10. 11. 12. 14. 15.] torch.Size([1, 16384, 1])\n",
      "> pose = \n",
      "tensor([[[ 0.9987, -0.0077, -0.0500,  0.0554],\n",
      "         [-0.0383, -0.7606, -0.6481,  2.7474],\n",
      "         [-0.0330,  0.6492, -0.7599,  2.1227],\n",
      "         [ 0.0000,  0.0000,  0.0000,  1.0000]]])\n",
      "> cam_int = \n",
      "tensor([[[1.1019e+03, 0.0000e+00, 8.1243e+02, 0.0000e+00],\n",
      "         [0.0000e+00, 1.1022e+03, 6.0238e+02, 0.0000e+00],\n",
      "         [0.0000e+00, 0.0000e+00, 1.0000e+00, 0.0000e+00],\n",
      "         [0.0000e+00, 0.0000e+00, 0.0000e+00, 1.0000e+00]]])\n",
      "torch.Size([1, 16384, 1]) [ 0.  1.  2.  4.  6.  7.  8.  9. 10. 11. 12. 14. 15.]\n"
     ]
    },
    {
     "data": {
      "image/png": "[encoded data removed]",
      "text/plain": [
       "<Figure size 432x288 with 1 Axes>"
      ]
     },
     "metadata": {
      "needs_background": "light"
     },
     "output_type": "display_data"
    }
   ],
   "source": [
    "from dataset.body_dataset import BodyPartDataset\n",
    "from torch.utils.data import DataLoader\n",
    "import numpy as np\n",
    "\n",
    "import util\n",
    "\n",
    "from matplotlib import pyplot as plt\n",
    "\n",
    "dataset = BodyPartDataset(\n",
    "        data_type='seg',\n",
    "        img_sidelength=128, \n",
    "        sample_observations=list(range(5)),\n",
    "        sample_instances=list(range(2)))\n",
    "\n",
    "dataloader = DataLoader(dataset,\n",
    "                     collate_fn=dataset.collate_fn,\n",
    "                     batch_size=1,\n",
    "                     shuffle=False,\n",
    "                     drop_last=False)\n",
    "\n",
    "print(len(dataloader))\n",
    "\n",
    "for idx, model_input in enumerate(dataloader):\n",
    "    model_input, ground_truth = model_input\n",
    "        \n",
    "    seg_img = model_input['rgb']\n",
    "    pose = model_input['pose']\n",
    "    intrinsics = model_input['intrinsics']\n",
    "    uv = model_input['uv']    \n",
    "    \n",
    "    print('> ', np.unique(seg_img), seg_img.shape)\n",
    "    print('> pose = ')\n",
    "    print(pose)\n",
    "    print('> cam_int = ')\n",
    "    print(intrinsics)\n",
    "    print(seg_img.shape, np.unique(seg_img))\n",
    "    \n",
    "    output_img = util.lin2img(seg_img, color_map=dataset.color_map).cpu().numpy()\n",
    "    \n",
    "    plt.imshow(output_img.squeeze().transpose(1, 2, 0))\n",
    "    plt.show()"
   ]
  },
  {
   "cell_type": "code",
   "execution_count": 3,
   "metadata": {},
   "outputs": [
    {
     "name": "stdout",
     "output_type": "stream",
     "text": [
      "ResNet(\n",
      "  (conv1): Conv2d(3, 64, kernel_size=(7, 7), stride=(2, 2), padding=(3, 3), bias=False)\n",
      "  (bn1): BatchNorm2d(64, eps=1e-05, momentum=0.1, affine=True, track_running_stats=True)\n",
      "  (relu): ReLU(inplace=True)\n",
      "  (maxpool): MaxPool2d(kernel_size=3, stride=2, padding=1, dilation=1, ceil_mode=False)\n",
      "  (layer1): Sequential(\n",
      "    (0): BasicBlock(\n",
      "      (conv1): Conv2d(64, 64, kernel_size=(3, 3), stride=(1, 1), padding=(1, 1), bias=False)\n",
      "      (bn1): BatchNorm2d(64, eps=1e-05, momentum=0.1, affine=True, track_running_stats=True)\n",
      "      (relu): ReLU(inplace=True)\n",
      "      (conv2): Conv2d(64, 64, kernel_size=(3, 3), stride=(1, 1), padding=(1, 1), bias=False)\n",
      "      (bn2): BatchNorm2d(64, eps=1e-05, momentum=0.1, affine=True, track_running_stats=True)\n",
      "    )\n",
      "    (1): BasicBlock(\n",
      "      (conv1): Conv2d(64, 64, kernel_size=(3, 3), stride=(1, 1), padding=(1, 1), bias=False)\n",
      "      (bn1): BatchNorm2d(64, eps=1e-05, momentum=0.1, affine=True, track_running_stats=True)\n",
      "      (relu): ReLU(inplace=True)\n",
      "      (conv2): Conv2d(64, 64, kernel_size=(3, 3), stride=(1, 1), padding=(1, 1), bias=False)\n",
      "      (bn2): BatchNorm2d(64, eps=1e-05, momentum=0.1, affine=True, track_running_stats=True)\n",
      "    )\n",
      "  )\n",
      "  (layer2): Sequential(\n",
      "    (0): BasicBlock(\n",
      "      (conv1): Conv2d(64, 128, kernel_size=(3, 3), stride=(2, 2), padding=(1, 1), bias=False)\n",
      "      (bn1): BatchNorm2d(128, eps=1e-05, momentum=0.1, affine=True, track_running_stats=True)\n",
      "      (relu): ReLU(inplace=True)\n",
      "      (conv2): Conv2d(128, 128, kernel_size=(3, 3), stride=(1, 1), padding=(1, 1), bias=False)\n",
      "      (bn2): BatchNorm2d(128, eps=1e-05, momentum=0.1, affine=True, track_running_stats=True)\n",
      "      (downsample): Sequential(\n",
      "        (0): Conv2d(64, 128, kernel_size=(1, 1), stride=(2, 2), bias=False)\n",
      "        (1): BatchNorm2d(128, eps=1e-05, momentum=0.1, affine=True, track_running_stats=True)\n",
      "      )\n",
      "    )\n",
      "    (1): BasicBlock(\n",
      "      (conv1): Conv2d(128, 128, kernel_size=(3, 3), stride=(1, 1), padding=(1, 1), bias=False)\n",
      "      (bn1): BatchNorm2d(128, eps=1e-05, momentum=0.1, affine=True, track_running_stats=True)\n",
      "      (relu): ReLU(inplace=True)\n",
      "      (conv2): Conv2d(128, 128, kernel_size=(3, 3), stride=(1, 1), padding=(1, 1), bias=False)\n",
      "      (bn2): BatchNorm2d(128, eps=1e-05, momentum=0.1, affine=True, track_running_stats=True)\n",
      "    )\n",
      "  )\n",
      "  (layer3): Sequential(\n",
      "    (0): BasicBlock(\n",
      "      (conv1): Conv2d(128, 256, kernel_size=(3, 3), stride=(2, 2), padding=(1, 1), bias=False)\n",
      "      (bn1): BatchNorm2d(256, eps=1e-05, momentum=0.1, affine=True, track_running_stats=True)\n",
      "      (relu): ReLU(inplace=True)\n",
      "      (conv2): Conv2d(256, 256, kernel_size=(3, 3), stride=(1, 1), padding=(1, 1), bias=False)\n",
      "      (bn2): BatchNorm2d(256, eps=1e-05, momentum=0.1, affine=True, track_running_stats=True)\n",
      "      (downsample): Sequential(\n",
      "        (0): Conv2d(128, 256, kernel_size=(1, 1), stride=(2, 2), bias=False)\n",
      "        (1): BatchNorm2d(256, eps=1e-05, momentum=0.1, affine=True, track_running_stats=True)\n",
      "      )\n",
      "    )\n",
      "    (1): BasicBlock(\n",
      "      (conv1): Conv2d(256, 256, kernel_size=(3, 3), stride=(1, 1), padding=(1, 1), bias=False)\n",
      "      (bn1): BatchNorm2d(256, eps=1e-05, momentum=0.1, affine=True, track_running_stats=True)\n",
      "      (relu): ReLU(inplace=True)\n",
      "      (conv2): Conv2d(256, 256, kernel_size=(3, 3), stride=(1, 1), padding=(1, 1), bias=False)\n",
      "      (bn2): BatchNorm2d(256, eps=1e-05, momentum=0.1, affine=True, track_running_stats=True)\n",
      "    )\n",
      "  )\n",
      "  (layer4): Sequential(\n",
      "    (0): BasicBlock(\n",
      "      (conv1): Conv2d(256, 512, kernel_size=(3, 3), stride=(2, 2), padding=(1, 1), bias=False)\n",
      "      (bn1): BatchNorm2d(512, eps=1e-05, momentum=0.1, affine=True, track_running_stats=True)\n",
      "      (relu): ReLU(inplace=True)\n",
      "      (conv2): Conv2d(512, 512, kernel_size=(3, 3), stride=(1, 1), padding=(1, 1), bias=False)\n",
      "      (bn2): BatchNorm2d(512, eps=1e-05, momentum=0.1, affine=True, track_running_stats=True)\n",
      "      (downsample): Sequential(\n",
      "        (0): Conv2d(256, 512, kernel_size=(1, 1), stride=(2, 2), bias=False)\n",
      "        (1): BatchNorm2d(512, eps=1e-05, momentum=0.1, affine=True, track_running_stats=True)\n",
      "      )\n",
      "    )\n",
      "    (1): BasicBlock(\n",
      "      (conv1): Conv2d(512, 512, kernel_size=(3, 3), stride=(1, 1), padding=(1, 1), bias=False)\n",
      "      (bn1): BatchNorm2d(512, eps=1e-05, momentum=0.1, affine=True, track_running_stats=True)\n",
      "      (relu): ReLU(inplace=True)\n",
      "      (conv2): Conv2d(512, 512, kernel_size=(3, 3), stride=(1, 1), padding=(1, 1), bias=False)\n",
      "      (bn2): BatchNorm2d(512, eps=1e-05, momentum=0.1, affine=True, track_running_stats=True)\n",
      "    )\n",
      "  )\n",
      "  (avgpool): AdaptiveAvgPool2d(output_size=(1, 1))\n",
      "  (fc): Linear(in_features=512, out_features=1000, bias=True)\n",
      ")\n"
     ]
    }
   ],
   "source": [
    "import torchvision.models as models\n",
    "\n",
    "model = models.resnet18(pretrained=False)\n",
    "print(model)"
   ]
  },
  {
   "cell_type": "code",
   "execution_count": 18,
   "metadata": {},
   "outputs": [],
   "source": [
    "import torch\n",
    "import torch.nn as nn\n",
    "import torch.nn.functional as F\n",
    "\n",
    "H, W = 512, 512\n",
    "\n",
    "\n",
    "class ConvBlock(nn.Module):\n",
    "    def __init__(   self, \n",
    "                    in_channels, \n",
    "                    out_channels, \n",
    "                    kernel_size=3, \n",
    "                    stride=1, \n",
    "                    num_groups=2):\n",
    "        super(ConvBlock, self).__init__()\n",
    "        self.conv = nn.Sequential(\n",
    "            nn.Conv2d(in_channels, out_channels, kernel_size, stride, stride//2),\n",
    "            nn.GroupNorm(num_groups, out_channels),\n",
    "            nn.ReLU())\n",
    "\n",
    "    def forward(self, x):\n",
    "        return self.conv(x)\n",
    "    \n",
    "\n",
    "class FeatureExtractor(nn.Module):\n",
    "    def __init__(self, in_channels=3):\n",
    "        super(FeatureExtractor, self).__init__()\n",
    "        self.in_channels = in_channels\n",
    "        \n",
    "        self.conv1_1 = ConvBlock(in_channels, 8, 3, 1)\n",
    "        self.conv1_2 = ConvBlock(8, 16, 3, 2)\n",
    "        self.conv2_1 = ConvBlock(16, 16, 3, 1)\n",
    "        self.conv2_2 = ConvBlock(16, 32, 3, 2)\n",
    "        self.conv3_1 = ConvBlock(32, 32, 3, 1)\n",
    "        self.deconv4_1 = nn.ConvTranspose2d(32, 16, 3, 2)\n",
    "\n",
    "        self.conv4_2 = ConvBlock(32, 16, 3, 1)\n",
    "        self.deconv5_1 = nn.ConvTranspose2d(16, 8, 3, 2)\n",
    "\n",
    "        self.conv5_2 = ConvBlock(16, 8, 3, 1)\n",
    "\n",
    "    def forward(self, x):\n",
    "        x0 = self.conv1_1(x)\n",
    "        print(x0.shape)\n",
    "        x = self.conv1_2(x0)\n",
    "        x1 = self.conv2_1(x)\n",
    "        x = self.conv2_2(x)\n",
    "        out0 = self.conv3_1(x)\n",
    "        x = self.deconv4_1(out0)\n",
    "\n",
    "        x = torch.cat([x1, x], dim=1)\n",
    "        out1 = self.conv4_2(x)\n",
    "        x = self.deconv5_1(out1)\n",
    "        x = torch.cat([x0, x], dim=1)\n",
    "\n",
    "        out2 = self.conv5_2(x)\n",
    "        return out0, out1, out2"
   ]
  },
  {
   "cell_type": "code",
   "execution_count": 19,
   "metadata": {},
   "outputs": [
    {
     "name": "stdout",
     "output_type": "stream",
     "text": [
      "torch.Size([8, 3, 512, 512])\n",
      "torch.Size([8, 8, 510, 510])\n"
     ]
    },
    {
     "ename": "RuntimeError",
     "evalue": "invalid argument 0: Sizes of tensors must match except in dimension 1. Got 510 and 503 in dimension 2 at /pytorch/aten/src/TH/generic/THTensor.cpp:689",
     "output_type": "error",
     "traceback": [
      "\u001b[0;31m---------------------------------------------------------------------------\u001b[0m",
      "\u001b[0;31mRuntimeError\u001b[0m                              Traceback (most recent call last)",
      "\u001b[0;32m<ipython-input-19-9419642b8e70>\u001b[0m in \u001b[0;36m<module>\u001b[0;34m\u001b[0m\n\u001b[1;32m      4\u001b[0m \u001b[0mfeat_worker\u001b[0m \u001b[0;34m=\u001b[0m \u001b[0mFeatureExtractor\u001b[0m\u001b[0;34m(\u001b[0m\u001b[0;34m)\u001b[0m\u001b[0;34m\u001b[0m\u001b[0;34m\u001b[0m\u001b[0m\n\u001b[1;32m      5\u001b[0m \u001b[0;34m\u001b[0m\u001b[0m\n\u001b[0;32m----> 6\u001b[0;31m \u001b[0moutput\u001b[0m \u001b[0;34m=\u001b[0m \u001b[0mfeat_worker\u001b[0m\u001b[0;34m(\u001b[0m\u001b[0mfake_in\u001b[0m\u001b[0;34m)\u001b[0m\u001b[0;34m\u001b[0m\u001b[0;34m\u001b[0m\u001b[0m\n\u001b[0m\u001b[1;32m      7\u001b[0m \u001b[0mprint\u001b[0m\u001b[0;34m(\u001b[0m\u001b[0moutput\u001b[0m\u001b[0;34m.\u001b[0m\u001b[0mshape\u001b[0m\u001b[0;34m)\u001b[0m\u001b[0;34m\u001b[0m\u001b[0;34m\u001b[0m\u001b[0m\n",
      "\u001b[0;32m~/anaconda3/envs/srns/lib/python3.7/site-packages/torch/nn/modules/module.py\u001b[0m in \u001b[0;36m__call__\u001b[0;34m(self, *input, **kwargs)\u001b[0m\n\u001b[1;32m    545\u001b[0m             \u001b[0mresult\u001b[0m \u001b[0;34m=\u001b[0m \u001b[0mself\u001b[0m\u001b[0;34m.\u001b[0m\u001b[0m_slow_forward\u001b[0m\u001b[0;34m(\u001b[0m\u001b[0;34m*\u001b[0m\u001b[0minput\u001b[0m\u001b[0;34m,\u001b[0m \u001b[0;34m**\u001b[0m\u001b[0mkwargs\u001b[0m\u001b[0;34m)\u001b[0m\u001b[0;34m\u001b[0m\u001b[0;34m\u001b[0m\u001b[0m\n\u001b[1;32m    546\u001b[0m         \u001b[0;32melse\u001b[0m\u001b[0;34m:\u001b[0m\u001b[0;34m\u001b[0m\u001b[0;34m\u001b[0m\u001b[0m\n\u001b[0;32m--> 547\u001b[0;31m             \u001b[0mresult\u001b[0m \u001b[0;34m=\u001b[0m \u001b[0mself\u001b[0m\u001b[0;34m.\u001b[0m\u001b[0mforward\u001b[0m\u001b[0;34m(\u001b[0m\u001b[0;34m*\u001b[0m\u001b[0minput\u001b[0m\u001b[0;34m,\u001b[0m \u001b[0;34m**\u001b[0m\u001b[0mkwargs\u001b[0m\u001b[0;34m)\u001b[0m\u001b[0;34m\u001b[0m\u001b[0;34m\u001b[0m\u001b[0m\n\u001b[0m\u001b[1;32m    548\u001b[0m         \u001b[0;32mfor\u001b[0m \u001b[0mhook\u001b[0m \u001b[0;32min\u001b[0m \u001b[0mself\u001b[0m\u001b[0;34m.\u001b[0m\u001b[0m_forward_hooks\u001b[0m\u001b[0;34m.\u001b[0m\u001b[0mvalues\u001b[0m\u001b[0;34m(\u001b[0m\u001b[0;34m)\u001b[0m\u001b[0;34m:\u001b[0m\u001b[0;34m\u001b[0m\u001b[0;34m\u001b[0m\u001b[0m\n\u001b[1;32m    549\u001b[0m             \u001b[0mhook_result\u001b[0m \u001b[0;34m=\u001b[0m \u001b[0mhook\u001b[0m\u001b[0;34m(\u001b[0m\u001b[0mself\u001b[0m\u001b[0;34m,\u001b[0m \u001b[0minput\u001b[0m\u001b[0;34m,\u001b[0m \u001b[0mresult\u001b[0m\u001b[0;34m)\u001b[0m\u001b[0;34m\u001b[0m\u001b[0;34m\u001b[0m\u001b[0m\n",
      "\u001b[0;32m<ipython-input-18-6d3eb6d57264>\u001b[0m in \u001b[0;36mforward\u001b[0;34m(self, x)\u001b[0m\n\u001b[1;32m     52\u001b[0m         \u001b[0mout1\u001b[0m \u001b[0;34m=\u001b[0m \u001b[0mself\u001b[0m\u001b[0;34m.\u001b[0m\u001b[0mconv4_2\u001b[0m\u001b[0;34m(\u001b[0m\u001b[0mx\u001b[0m\u001b[0;34m)\u001b[0m\u001b[0;34m\u001b[0m\u001b[0;34m\u001b[0m\u001b[0m\n\u001b[1;32m     53\u001b[0m         \u001b[0mx\u001b[0m \u001b[0;34m=\u001b[0m \u001b[0mself\u001b[0m\u001b[0;34m.\u001b[0m\u001b[0mdeconv5_1\u001b[0m\u001b[0;34m(\u001b[0m\u001b[0mout1\u001b[0m\u001b[0;34m)\u001b[0m\u001b[0;34m\u001b[0m\u001b[0;34m\u001b[0m\u001b[0m\n\u001b[0;32m---> 54\u001b[0;31m         \u001b[0mx\u001b[0m \u001b[0;34m=\u001b[0m \u001b[0mtorch\u001b[0m\u001b[0;34m.\u001b[0m\u001b[0mcat\u001b[0m\u001b[0;34m(\u001b[0m\u001b[0;34m[\u001b[0m\u001b[0mx0\u001b[0m\u001b[0;34m,\u001b[0m \u001b[0mx\u001b[0m\u001b[0;34m]\u001b[0m\u001b[0;34m,\u001b[0m \u001b[0mdim\u001b[0m\u001b[0;34m=\u001b[0m\u001b[0;36m1\u001b[0m\u001b[0;34m)\u001b[0m\u001b[0;34m\u001b[0m\u001b[0;34m\u001b[0m\u001b[0m\n\u001b[0m\u001b[1;32m     55\u001b[0m \u001b[0;34m\u001b[0m\u001b[0m\n\u001b[1;32m     56\u001b[0m         \u001b[0mout2\u001b[0m \u001b[0;34m=\u001b[0m \u001b[0mself\u001b[0m\u001b[0;34m.\u001b[0m\u001b[0mconv5_2\u001b[0m\u001b[0;34m(\u001b[0m\u001b[0mx\u001b[0m\u001b[0;34m)\u001b[0m\u001b[0;34m\u001b[0m\u001b[0;34m\u001b[0m\u001b[0m\n",
      "\u001b[0;31mRuntimeError\u001b[0m: invalid argument 0: Sizes of tensors must match except in dimension 1. Got 510 and 503 in dimension 2 at /pytorch/aten/src/TH/generic/THTensor.cpp:689"
     ]
    }
   ],
   "source": [
    "fake_in = torch.rand(8, 3, H, W)\n",
    "print(fake_in.shape)\n",
    "\n",
    "feat_worker = FeatureExtractor()\n",
    "\n",
    "output = feat_worker(fake_in)\n",
    "\n",
    "print(output.shape)"
   ]
  },
  {
   "cell_type": "code",
   "execution_count": null,
   "metadata": {},
   "outputs": [],
   "source": [
    "import os\n",
    "from image_utils import Random_Transforms\n",
    "\n",
    "basedir='/mnt/wmy/sport_1_mask'\n",
    "cam_id=0\n",
    "\n",
    "poses = np.loadtxt(os.path.join(basedir,'CamPose.inf'))\n",
    "Ks = read_intrinsics(os.path.join(basedir,'Intrinsic.inf'))\n",
    "\n",
    "img_fp = os.path.join(basedir, 'img', '%d/img_%04d.jpg' % (_FRAME_ID, cam_id))\n",
    "img = imageio.imread(img_fp)\n",
    "mask_fp = os.path.join(basedir, 'img', 'mask', '%d/img_%04d.jpg' % (_FRAME_ID, cam_id))\n",
    "mask = imageio.imread(mask_fp)\n",
    "\n",
    "img, K, img_mask, ROI = transform(img, Ks[cam_id], mask)\n",
    "\n",
    "print(img.shape)\n",
    "\n",
    "print(K)"
   ]
  },
  {
   "cell_type": "code",
   "execution_count": 25,
   "metadata": {},
   "outputs": [
    {
     "name": "stdout",
     "output_type": "stream",
     "text": [
      "(1536, 2048, 3)\n"
     ]
    }
   ],
   "source": [
    "import imageio\n",
    "\n",
    "img_fp = os.path.join(basedir, 'img', '%d/img_%04d.jpg' % (0, 0))\n",
    "img = imageio.imread(img_fp)\n",
    "\n",
    "print(img.shape)"
   ]
  },
  {
   "cell_type": "code",
   "execution_count": 27,
   "metadata": {},
   "outputs": [
    {
     "name": "stdout",
     "output_type": "stream",
     "text": [
      "4774.75\n"
     ]
    }
   ],
   "source": [
    "print(Ks[0, 0, 0])"
   ]
  },
  {
   "cell_type": "code",
   "execution_count": null,
   "metadata": {},
   "outputs": [],
   "source": []
  }
 ],
 "metadata": {
  "kernelspec": {
   "display_name": "Python 3",
   "language": "python",
   "name": "python3"
  },
  "language_info": {
   "codemirror_mode": {
    "name": "ipython",
    "version": 3
   },
   "file_extension": ".py",
   "mimetype": "text/x-python",
   "name": "python",
   "nbconvert_exporter": "python",
   "pygments_lexer": "ipython3",
   "version": "3.7.4"
  }
 },
 "nbformat": 4,
 "nbformat_minor": 4
}
